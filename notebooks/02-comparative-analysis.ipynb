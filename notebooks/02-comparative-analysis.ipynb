{
 "cells": [
  {
   "cell_type": "markdown",
   "id": "eff741c0-0608-4496-a6fc-86f8937703ae",
   "metadata": {},
   "source": [
    "# Análise comparativa de modelos"
   ]
  },
  {
   "cell_type": "code",
   "execution_count": 1,
   "id": "32c3c211-47da-4251-97ba-ed19427d8ee7",
   "metadata": {
    "tags": []
   },
   "outputs": [],
   "source": [
    "from IPython.display import Image, display, Markdown\n",
    "import numpy as np\n",
    "import pandas as pd\n",
    "import seaborn as sns\n",
    "import matplotlib.pyplot as plt\n",
    "from scipy import stats\n",
    "import joblib\n",
    "\n",
    "from sklearn.pipeline import Pipeline\n",
    "from sklearn.impute import SimpleImputer\n",
    "from sklearn.preprocessing import StandardScaler, MinMaxScaler, OneHotEncoder, OrdinalEncoder, LabelEncoder\n",
    "from sklearn.compose import ColumnTransformer\n",
    "from sklearn.linear_model import LogisticRegression\n",
    "\n",
    "from sklearn.neighbors import KNeighborsClassifier\n",
    "from sklearn.model_selection import ShuffleSplit, GridSearchCV, KFold, cross_validate\n",
    "from sklearn.svm import SVC\n",
    "from sklearn.tree import DecisionTreeClassifier\n",
    "from sklearn.ensemble import RandomForestClassifier\n",
    "\n",
    "colors = [\"#9467bd\", \"#057476\", \"#FF7A00\"]\n",
    "sns.set_theme(style=\"ticks\")\n",
    "sns.set_palette(sns.color_palette(colors))"
   ]
  },
  {
   "cell_type": "markdown",
   "id": "680cf069-501f-4241-9eb4-54b5b4020079",
   "metadata": {},
   "source": [
    "## 1. Obtenção de dados"
   ]
  },
  {
   "cell_type": "code",
   "execution_count": 2,
   "id": "3e7e43ca-671e-4c98-b54b-256c4abc679b",
   "metadata": {
    "tags": []
   },
   "outputs": [
    {
     "data": {
      "text/html": [
       "<div>\n",
       "<style scoped>\n",
       "    .dataframe tbody tr th:only-of-type {\n",
       "        vertical-align: middle;\n",
       "    }\n",
       "\n",
       "    .dataframe tbody tr th {\n",
       "        vertical-align: top;\n",
       "    }\n",
       "\n",
       "    .dataframe thead th {\n",
       "        text-align: right;\n",
       "    }\n",
       "</style>\n",
       "<table border=\"1\" class=\"dataframe\">\n",
       "  <thead>\n",
       "    <tr style=\"text-align: right;\">\n",
       "      <th></th>\n",
       "      <th>Person ID</th>\n",
       "      <th>Gender</th>\n",
       "      <th>Age</th>\n",
       "      <th>Occupation</th>\n",
       "      <th>Sleep Duration</th>\n",
       "      <th>Quality of Sleep</th>\n",
       "      <th>Physical Activity Level</th>\n",
       "      <th>Stress Level</th>\n",
       "      <th>BMI Category</th>\n",
       "      <th>Blood Pressure</th>\n",
       "      <th>Heart Rate</th>\n",
       "      <th>Daily Steps</th>\n",
       "      <th>Sleep Disorder</th>\n",
       "    </tr>\n",
       "  </thead>\n",
       "  <tbody>\n",
       "    <tr>\n",
       "      <th>0</th>\n",
       "      <td>1</td>\n",
       "      <td>Male</td>\n",
       "      <td>27</td>\n",
       "      <td>Software Engineer</td>\n",
       "      <td>6.1</td>\n",
       "      <td>6</td>\n",
       "      <td>42</td>\n",
       "      <td>6</td>\n",
       "      <td>Overweight</td>\n",
       "      <td>126/83</td>\n",
       "      <td>77</td>\n",
       "      <td>4200</td>\n",
       "      <td>None</td>\n",
       "    </tr>\n",
       "    <tr>\n",
       "      <th>1</th>\n",
       "      <td>2</td>\n",
       "      <td>Male</td>\n",
       "      <td>28</td>\n",
       "      <td>Doctor</td>\n",
       "      <td>6.2</td>\n",
       "      <td>6</td>\n",
       "      <td>60</td>\n",
       "      <td>8</td>\n",
       "      <td>Normal</td>\n",
       "      <td>125/80</td>\n",
       "      <td>75</td>\n",
       "      <td>10000</td>\n",
       "      <td>None</td>\n",
       "    </tr>\n",
       "    <tr>\n",
       "      <th>2</th>\n",
       "      <td>3</td>\n",
       "      <td>Male</td>\n",
       "      <td>28</td>\n",
       "      <td>Doctor</td>\n",
       "      <td>6.2</td>\n",
       "      <td>6</td>\n",
       "      <td>60</td>\n",
       "      <td>8</td>\n",
       "      <td>Normal</td>\n",
       "      <td>125/80</td>\n",
       "      <td>75</td>\n",
       "      <td>10000</td>\n",
       "      <td>None</td>\n",
       "    </tr>\n",
       "    <tr>\n",
       "      <th>3</th>\n",
       "      <td>4</td>\n",
       "      <td>Male</td>\n",
       "      <td>28</td>\n",
       "      <td>Sales Representative</td>\n",
       "      <td>5.9</td>\n",
       "      <td>4</td>\n",
       "      <td>30</td>\n",
       "      <td>8</td>\n",
       "      <td>Obese</td>\n",
       "      <td>140/90</td>\n",
       "      <td>85</td>\n",
       "      <td>3000</td>\n",
       "      <td>Sleep Apnea</td>\n",
       "    </tr>\n",
       "    <tr>\n",
       "      <th>4</th>\n",
       "      <td>5</td>\n",
       "      <td>Male</td>\n",
       "      <td>28</td>\n",
       "      <td>Sales Representative</td>\n",
       "      <td>5.9</td>\n",
       "      <td>4</td>\n",
       "      <td>30</td>\n",
       "      <td>8</td>\n",
       "      <td>Obese</td>\n",
       "      <td>140/90</td>\n",
       "      <td>85</td>\n",
       "      <td>3000</td>\n",
       "      <td>Sleep Apnea</td>\n",
       "    </tr>\n",
       "    <tr>\n",
       "      <th>...</th>\n",
       "      <td>...</td>\n",
       "      <td>...</td>\n",
       "      <td>...</td>\n",
       "      <td>...</td>\n",
       "      <td>...</td>\n",
       "      <td>...</td>\n",
       "      <td>...</td>\n",
       "      <td>...</td>\n",
       "      <td>...</td>\n",
       "      <td>...</td>\n",
       "      <td>...</td>\n",
       "      <td>...</td>\n",
       "      <td>...</td>\n",
       "    </tr>\n",
       "    <tr>\n",
       "      <th>369</th>\n",
       "      <td>370</td>\n",
       "      <td>Female</td>\n",
       "      <td>59</td>\n",
       "      <td>Nurse</td>\n",
       "      <td>8.1</td>\n",
       "      <td>9</td>\n",
       "      <td>75</td>\n",
       "      <td>3</td>\n",
       "      <td>Overweight</td>\n",
       "      <td>140/95</td>\n",
       "      <td>68</td>\n",
       "      <td>7000</td>\n",
       "      <td>Sleep Apnea</td>\n",
       "    </tr>\n",
       "    <tr>\n",
       "      <th>370</th>\n",
       "      <td>371</td>\n",
       "      <td>Female</td>\n",
       "      <td>59</td>\n",
       "      <td>Nurse</td>\n",
       "      <td>8.0</td>\n",
       "      <td>9</td>\n",
       "      <td>75</td>\n",
       "      <td>3</td>\n",
       "      <td>Overweight</td>\n",
       "      <td>140/95</td>\n",
       "      <td>68</td>\n",
       "      <td>7000</td>\n",
       "      <td>Sleep Apnea</td>\n",
       "    </tr>\n",
       "    <tr>\n",
       "      <th>371</th>\n",
       "      <td>372</td>\n",
       "      <td>Female</td>\n",
       "      <td>59</td>\n",
       "      <td>Nurse</td>\n",
       "      <td>8.1</td>\n",
       "      <td>9</td>\n",
       "      <td>75</td>\n",
       "      <td>3</td>\n",
       "      <td>Overweight</td>\n",
       "      <td>140/95</td>\n",
       "      <td>68</td>\n",
       "      <td>7000</td>\n",
       "      <td>Sleep Apnea</td>\n",
       "    </tr>\n",
       "    <tr>\n",
       "      <th>372</th>\n",
       "      <td>373</td>\n",
       "      <td>Female</td>\n",
       "      <td>59</td>\n",
       "      <td>Nurse</td>\n",
       "      <td>8.1</td>\n",
       "      <td>9</td>\n",
       "      <td>75</td>\n",
       "      <td>3</td>\n",
       "      <td>Overweight</td>\n",
       "      <td>140/95</td>\n",
       "      <td>68</td>\n",
       "      <td>7000</td>\n",
       "      <td>Sleep Apnea</td>\n",
       "    </tr>\n",
       "    <tr>\n",
       "      <th>373</th>\n",
       "      <td>374</td>\n",
       "      <td>Female</td>\n",
       "      <td>59</td>\n",
       "      <td>Nurse</td>\n",
       "      <td>8.1</td>\n",
       "      <td>9</td>\n",
       "      <td>75</td>\n",
       "      <td>3</td>\n",
       "      <td>Overweight</td>\n",
       "      <td>140/95</td>\n",
       "      <td>68</td>\n",
       "      <td>7000</td>\n",
       "      <td>Sleep Apnea</td>\n",
       "    </tr>\n",
       "  </tbody>\n",
       "</table>\n",
       "<p>374 rows × 13 columns</p>\n",
       "</div>"
      ],
      "text/plain": [
       "     Person ID  Gender  Age            Occupation  Sleep Duration  \\\n",
       "0            1    Male   27     Software Engineer             6.1   \n",
       "1            2    Male   28                Doctor             6.2   \n",
       "2            3    Male   28                Doctor             6.2   \n",
       "3            4    Male   28  Sales Representative             5.9   \n",
       "4            5    Male   28  Sales Representative             5.9   \n",
       "..         ...     ...  ...                   ...             ...   \n",
       "369        370  Female   59                 Nurse             8.1   \n",
       "370        371  Female   59                 Nurse             8.0   \n",
       "371        372  Female   59                 Nurse             8.1   \n",
       "372        373  Female   59                 Nurse             8.1   \n",
       "373        374  Female   59                 Nurse             8.1   \n",
       "\n",
       "     Quality of Sleep  Physical Activity Level  Stress Level BMI Category  \\\n",
       "0                   6                       42             6   Overweight   \n",
       "1                   6                       60             8       Normal   \n",
       "2                   6                       60             8       Normal   \n",
       "3                   4                       30             8        Obese   \n",
       "4                   4                       30             8        Obese   \n",
       "..                ...                      ...           ...          ...   \n",
       "369                 9                       75             3   Overweight   \n",
       "370                 9                       75             3   Overweight   \n",
       "371                 9                       75             3   Overweight   \n",
       "372                 9                       75             3   Overweight   \n",
       "373                 9                       75             3   Overweight   \n",
       "\n",
       "    Blood Pressure  Heart Rate  Daily Steps Sleep Disorder  \n",
       "0           126/83          77         4200           None  \n",
       "1           125/80          75        10000           None  \n",
       "2           125/80          75        10000           None  \n",
       "3           140/90          85         3000    Sleep Apnea  \n",
       "4           140/90          85         3000    Sleep Apnea  \n",
       "..             ...         ...          ...            ...  \n",
       "369         140/95          68         7000    Sleep Apnea  \n",
       "370         140/95          68         7000    Sleep Apnea  \n",
       "371         140/95          68         7000    Sleep Apnea  \n",
       "372         140/95          68         7000    Sleep Apnea  \n",
       "373         140/95          68         7000    Sleep Apnea  \n",
       "\n",
       "[374 rows x 13 columns]"
      ]
     },
     "execution_count": 2,
     "metadata": {},
     "output_type": "execute_result"
    }
   ],
   "source": [
    "# Carregar o arquivo dos dados\n",
    "df = pd.read_csv(\"../data/raw/Sleep_health_and_lifestyle_dataset.csv\")\n",
    "df"
   ]
  },
  {
   "cell_type": "code",
   "execution_count": 3,
   "id": "a36e4061-7a61-435a-b3d9-1b99b58bf019",
   "metadata": {
    "tags": []
   },
   "outputs": [
    {
     "data": {
      "text/html": [
       "<div>\n",
       "<style scoped>\n",
       "    .dataframe tbody tr th:only-of-type {\n",
       "        vertical-align: middle;\n",
       "    }\n",
       "\n",
       "    .dataframe tbody tr th {\n",
       "        vertical-align: top;\n",
       "    }\n",
       "\n",
       "    .dataframe thead th {\n",
       "        text-align: right;\n",
       "    }\n",
       "</style>\n",
       "<table border=\"1\" class=\"dataframe\">\n",
       "  <thead>\n",
       "    <tr style=\"text-align: right;\">\n",
       "      <th></th>\n",
       "      <th>variavel</th>\n",
       "      <th>descrição</th>\n",
       "      <th>tipo</th>\n",
       "      <th>subtipo</th>\n",
       "    </tr>\n",
       "  </thead>\n",
       "  <tbody>\n",
       "    <tr>\n",
       "      <th>0</th>\n",
       "      <td>Gender</td>\n",
       "      <td>O gênero da pessoa (Masculino/Feminino)</td>\n",
       "      <td>qualitativa</td>\n",
       "      <td>nominal</td>\n",
       "    </tr>\n",
       "    <tr>\n",
       "      <th>1</th>\n",
       "      <td>Age</td>\n",
       "      <td>A idade da pessoa em anos</td>\n",
       "      <td>quantitativa</td>\n",
       "      <td>discreta</td>\n",
       "    </tr>\n",
       "    <tr>\n",
       "      <th>2</th>\n",
       "      <td>Occupation</td>\n",
       "      <td>A ocupação ou profissão da pessoa</td>\n",
       "      <td>qualitativa</td>\n",
       "      <td>nominal</td>\n",
       "    </tr>\n",
       "    <tr>\n",
       "      <th>3</th>\n",
       "      <td>Sleep Duration</td>\n",
       "      <td>O número de horas que a pessoa dorme por dia</td>\n",
       "      <td>quantitativa</td>\n",
       "      <td>contínua</td>\n",
       "    </tr>\n",
       "    <tr>\n",
       "      <th>4</th>\n",
       "      <td>Quality of Sleep</td>\n",
       "      <td>Uma classificação subjetiva da qualidade do so...</td>\n",
       "      <td>quantitativa</td>\n",
       "      <td>discreta</td>\n",
       "    </tr>\n",
       "    <tr>\n",
       "      <th>5</th>\n",
       "      <td>Physical Activity Level</td>\n",
       "      <td>O número de minutos que a pessoa pratica ativi...</td>\n",
       "      <td>quantitativa</td>\n",
       "      <td>discreta</td>\n",
       "    </tr>\n",
       "    <tr>\n",
       "      <th>6</th>\n",
       "      <td>Stress Level</td>\n",
       "      <td>Uma classificação subjetiva do nível de estres...</td>\n",
       "      <td>quantitativa</td>\n",
       "      <td>discreta</td>\n",
       "    </tr>\n",
       "    <tr>\n",
       "      <th>7</th>\n",
       "      <td>BMI Category</td>\n",
       "      <td>A categoria de IMC da pessoa (por exemplo, Aba...</td>\n",
       "      <td>qualitativa</td>\n",
       "      <td>ordinal</td>\n",
       "    </tr>\n",
       "    <tr>\n",
       "      <th>8</th>\n",
       "      <td>Blood Pressure</td>\n",
       "      <td>A medição da pressão arterial da pessoa, indic...</td>\n",
       "      <td>qualitativa</td>\n",
       "      <td>ordinal</td>\n",
       "    </tr>\n",
       "    <tr>\n",
       "      <th>9</th>\n",
       "      <td>Heart Rate</td>\n",
       "      <td>A frequência cardíaca em repouso da pessoa em ...</td>\n",
       "      <td>quantitativa</td>\n",
       "      <td>discreta</td>\n",
       "    </tr>\n",
       "    <tr>\n",
       "      <th>10</th>\n",
       "      <td>Daily Steps</td>\n",
       "      <td>O número de passos que a pessoa dá por dia</td>\n",
       "      <td>quantitativa</td>\n",
       "      <td>discreta</td>\n",
       "    </tr>\n",
       "    <tr>\n",
       "      <th>11</th>\n",
       "      <td>Sleep Disorder</td>\n",
       "      <td>A presença ou ausência de um distúrbio do son...</td>\n",
       "      <td>qualitativa</td>\n",
       "      <td>nominal</td>\n",
       "    </tr>\n",
       "  </tbody>\n",
       "</table>\n",
       "</div>"
      ],
      "text/plain": [
       "                   variavel  \\\n",
       "0                    Gender   \n",
       "1                       Age   \n",
       "2                Occupation   \n",
       "3            Sleep Duration   \n",
       "4          Quality of Sleep   \n",
       "5   Physical Activity Level   \n",
       "6              Stress Level   \n",
       "7              BMI Category   \n",
       "8            Blood Pressure   \n",
       "9                Heart Rate   \n",
       "10              Daily Steps   \n",
       "11           Sleep Disorder   \n",
       "\n",
       "                                            descrição          tipo   subtipo  \n",
       "0             O gênero da pessoa (Masculino/Feminino)   qualitativa   nominal  \n",
       "1                           A idade da pessoa em anos  quantitativa  discreta  \n",
       "2                   A ocupação ou profissão da pessoa   qualitativa   nominal  \n",
       "3        O número de horas que a pessoa dorme por dia  quantitativa  contínua  \n",
       "4   Uma classificação subjetiva da qualidade do so...  quantitativa  discreta  \n",
       "5   O número de minutos que a pessoa pratica ativi...  quantitativa  discreta  \n",
       "6   Uma classificação subjetiva do nível de estres...  quantitativa  discreta  \n",
       "7   A categoria de IMC da pessoa (por exemplo, Aba...   qualitativa   ordinal  \n",
       "8   A medição da pressão arterial da pessoa, indic...   qualitativa   ordinal  \n",
       "9   A frequência cardíaca em repouso da pessoa em ...  quantitativa  discreta  \n",
       "10         O número de passos que a pessoa dá por dia  quantitativa  discreta  \n",
       "11   A presença ou ausência de um distúrbio do son...   qualitativa   nominal  "
      ]
     },
     "execution_count": 3,
     "metadata": {},
     "output_type": "execute_result"
    }
   ],
   "source": [
    "# Carregar o dicionário\n",
    "dicionario = pd.read_csv(\"../data/external/dictionary.csv\")\n",
    "dicionario"
   ]
  },
  {
   "cell_type": "markdown",
   "id": "98af0559-0ab4-4d7d-87e2-96d064eca18e",
   "metadata": {},
   "source": [
    "## 2. Preparação de dados"
   ]
  },
  {
   "cell_type": "markdown",
   "id": "ec365e3b-7cc1-4b04-aa35-2f50f63de503",
   "metadata": {},
   "source": [
    "### -  Limpeza de dados"
   ]
  },
  {
   "cell_type": "code",
   "execution_count": 4,
   "id": "0eef8e92-3434-4e4d-a829-2ac067b27439",
   "metadata": {},
   "outputs": [],
   "source": [
    "# Redução - excluir coluna que não traz nenhum tipo informação\n",
    "# Excluir a coluna 'Person ID'\n",
    "df = df.drop(['Person ID'], axis = 1)"
   ]
  },
  {
   "cell_type": "code",
   "execution_count": 5,
   "id": "376eddbf-ceeb-4446-ad3f-4720b1fad95b",
   "metadata": {
    "tags": []
   },
   "outputs": [
    {
     "data": {
      "text/plain": [
       "Gender                     0\n",
       "Age                        0\n",
       "Occupation                 0\n",
       "Sleep Duration             0\n",
       "Quality of Sleep           0\n",
       "Physical Activity Level    0\n",
       "Stress Level               0\n",
       "BMI Category               0\n",
       "Blood Pressure             0\n",
       "Heart Rate                 0\n",
       "Daily Steps                0\n",
       "Sleep Disorder             0\n",
       "dtype: int64"
      ]
     },
     "execution_count": 5,
     "metadata": {},
     "output_type": "execute_result"
    }
   ],
   "source": [
    "# Verificar valores missing ou NAM (valores faltantes)\n",
    "df.isnull().sum()"
   ]
  },
  {
   "cell_type": "markdown",
   "id": "30c9968d-941b-426e-9783-3ccf4af00ac4",
   "metadata": {},
   "source": [
    "Tratamento para a variável IMC"
   ]
  },
  {
   "cell_type": "code",
   "execution_count": 6,
   "id": "76d811e8-692c-45cb-9a31-0edd8b3e74e2",
   "metadata": {
    "tags": []
   },
   "outputs": [
    {
     "data": {
      "text/plain": [
       "0      Overweight\n",
       "1          Normal\n",
       "2          Normal\n",
       "3           Obese\n",
       "4           Obese\n",
       "          ...    \n",
       "369    Overweight\n",
       "370    Overweight\n",
       "371    Overweight\n",
       "372    Overweight\n",
       "373    Overweight\n",
       "Name: BMI Category, Length: 374, dtype: object"
      ]
     },
     "execution_count": 6,
     "metadata": {},
     "output_type": "execute_result"
    }
   ],
   "source": [
    "df['BMI Category']"
   ]
  },
  {
   "cell_type": "markdown",
   "id": "5ad25ab3-0908-42d9-8b76-b7651d425274",
   "metadata": {},
   "source": [
    "Não há dados faltantes neste dataset."
   ]
  },
  {
   "cell_type": "markdown",
   "id": "680f92c2-6b9b-4d66-8a9b-1888dad59056",
   "metadata": {},
   "source": [
    "Para a variável categórica BMI category, deve-se considerar que: \n",
    "\n",
    "- 'Overweight' and 'Obese' têm o mesmo significado, portanto, todas as entradas na tabela de dormir relativas a Overweight são alteradas para Obese.\n",
    "- 'Normal' and 'Normal Weight' também têm o mesmo significado, portanto, todas as ocorrências de Normal Weight são alteradas para Normal"
   ]
  },
  {
   "cell_type": "code",
   "execution_count": 7,
   "id": "a690fd89-198b-4dc6-9869-411540c57f26",
   "metadata": {
    "tags": []
   },
   "outputs": [
    {
     "data": {
      "text/plain": [
       "array(['Obese', 'Normal'], dtype=object)"
      ]
     },
     "execution_count": 7,
     "metadata": {},
     "output_type": "execute_result"
    }
   ],
   "source": [
    "df['BMI Category'] = df['BMI Category'].mask(df['BMI Category'] == 'Overweight', 'Obese')\n",
    "df['BMI Category'] = df['BMI Category'].mask(df['BMI Category'] == 'Normal Weight', 'Normal')\n",
    "df[\"BMI Category\"].unique()"
   ]
  },
  {
   "cell_type": "markdown",
   "id": "a6291664-b105-40d6-b35f-d6c4e66c9a49",
   "metadata": {},
   "source": [
    "Tratamento para a variável Blood Pressure"
   ]
  },
  {
   "cell_type": "code",
   "execution_count": 8,
   "id": "094e75dd-707a-45ea-b0b0-a187cadef28a",
   "metadata": {
    "tags": []
   },
   "outputs": [
    {
     "data": {
      "text/plain": [
       "0      126/83\n",
       "1      125/80\n",
       "2      125/80\n",
       "3      140/90\n",
       "4      140/90\n",
       "        ...  \n",
       "369    140/95\n",
       "370    140/95\n",
       "371    140/95\n",
       "372    140/95\n",
       "373    140/95\n",
       "Name: Blood Pressure, Length: 374, dtype: object"
      ]
     },
     "execution_count": 8,
     "metadata": {},
     "output_type": "execute_result"
    }
   ],
   "source": [
    "df['Blood Pressure']"
   ]
  },
  {
   "cell_type": "markdown",
   "id": "1c96084a-39e1-4799-8201-de9abd368651",
   "metadata": {},
   "source": [
    "De acordo com a [Departamento de Hipertensão Arterial](http://departamentos.cardiol.br/dha/consenso3/capitulo1.asp), para a varável categórica Pressão arterial (Blood Pressure) existe a seguinte classificação para adultos maiores que 18 anos: \n",
    "\n",
    "<div align=\"center\">\n",
    "\n",
    "<img width=\"400\" title=\"Classificação da pressão arterial\" src=\"../docs/assets/images/blood_pressure.png\"/>\n",
    "\n",
    "</div>"
   ]
  },
  {
   "cell_type": "code",
   "execution_count": 9,
   "id": "9fcb2dea-26ee-487f-9428-45a612a81590",
   "metadata": {},
   "outputs": [
    {
     "data": {
      "text/plain": [
       "array(['Normal', 'Hipertensão Estagio 1', 'Normal Limitrofe'],\n",
       "      dtype=object)"
      ]
     },
     "execution_count": 9,
     "metadata": {},
     "output_type": "execute_result"
    }
   ],
   "source": [
    "# Dicionário de mapeamento dos valores de pressão arterial para suas categorias\n",
    "blood_pressure_mapping = {\n",
    "    '126/83': 'Normal',\n",
    "    '125/80': 'Normal',\n",
    "    '120/80': 'Normal',\n",
    "    '117/76': 'Normal',\n",
    "    '118/76': 'Normal',\n",
    "    '128/85': 'Normal',\n",
    "    '128/84': 'Normal',\n",
    "    '115/75': 'Normal',\n",
    "    '129/84': 'Normal',\n",
    "    '115/78': 'Normal',\n",
    "    '119/77': 'Normal',\n",
    "    '121/79': 'Normal',\n",
    "    '125/82': 'Normal',\n",
    "    '122/80': 'Normal',\n",
    "    '118/75': 'Normal',\n",
    "    '132/87': 'Normal Limitrofe',\n",
    "    '130/86': 'Normal Limitrofe',\n",
    "    '131/86': 'Normal Limitrofe',\n",
    "    '135/88': 'Normal Limitrofe',\n",
    "    '130/85': 'Normal Limitrofe',\n",
    "    '135/90': 'Normal Limitrofe',\n",
    "    '139/91': 'Normal Limitrofe',\n",
    "    '140/90': 'Hipertensão Estagio 1',\n",
    "    '142/92': 'Hipertensão Estagio 1',\n",
    "    '140/95': 'Hipertensão Estagio 1'\n",
    "}\n",
    "\n",
    "# Aplicando o mapeamento ao dataframe\n",
    "df['Blood Pressure'] = df['Blood Pressure'].replace(blood_pressure_mapping)\n",
    "\n",
    "# Verificando os valores únicos após a substituição\n",
    "df['Blood Pressure'].unique()"
   ]
  },
  {
   "cell_type": "code",
   "execution_count": 10,
   "id": "d1595ddc-0888-49d0-ab1b-892e961ac092",
   "metadata": {
    "tags": []
   },
   "outputs": [
    {
     "data": {
      "text/html": [
       "<div>\n",
       "<style scoped>\n",
       "    .dataframe tbody tr th:only-of-type {\n",
       "        vertical-align: middle;\n",
       "    }\n",
       "\n",
       "    .dataframe tbody tr th {\n",
       "        vertical-align: top;\n",
       "    }\n",
       "\n",
       "    .dataframe thead th {\n",
       "        text-align: right;\n",
       "    }\n",
       "</style>\n",
       "<table border=\"1\" class=\"dataframe\">\n",
       "  <thead>\n",
       "    <tr style=\"text-align: right;\">\n",
       "      <th></th>\n",
       "      <th>Gender</th>\n",
       "      <th>Age</th>\n",
       "      <th>Occupation</th>\n",
       "      <th>Sleep Duration</th>\n",
       "      <th>Quality of Sleep</th>\n",
       "      <th>Physical Activity Level</th>\n",
       "      <th>Stress Level</th>\n",
       "      <th>BMI Category</th>\n",
       "      <th>Blood Pressure</th>\n",
       "      <th>Heart Rate</th>\n",
       "      <th>Daily Steps</th>\n",
       "      <th>Sleep Disorder</th>\n",
       "    </tr>\n",
       "  </thead>\n",
       "  <tbody>\n",
       "    <tr>\n",
       "      <th>0</th>\n",
       "      <td>Male</td>\n",
       "      <td>27</td>\n",
       "      <td>Software Engineer</td>\n",
       "      <td>6.1</td>\n",
       "      <td>6</td>\n",
       "      <td>42</td>\n",
       "      <td>6</td>\n",
       "      <td>Obese</td>\n",
       "      <td>Normal</td>\n",
       "      <td>77</td>\n",
       "      <td>4200</td>\n",
       "      <td>None</td>\n",
       "    </tr>\n",
       "    <tr>\n",
       "      <th>1</th>\n",
       "      <td>Male</td>\n",
       "      <td>28</td>\n",
       "      <td>Doctor</td>\n",
       "      <td>6.2</td>\n",
       "      <td>6</td>\n",
       "      <td>60</td>\n",
       "      <td>8</td>\n",
       "      <td>Normal</td>\n",
       "      <td>Normal</td>\n",
       "      <td>75</td>\n",
       "      <td>10000</td>\n",
       "      <td>None</td>\n",
       "    </tr>\n",
       "    <tr>\n",
       "      <th>2</th>\n",
       "      <td>Male</td>\n",
       "      <td>28</td>\n",
       "      <td>Doctor</td>\n",
       "      <td>6.2</td>\n",
       "      <td>6</td>\n",
       "      <td>60</td>\n",
       "      <td>8</td>\n",
       "      <td>Normal</td>\n",
       "      <td>Normal</td>\n",
       "      <td>75</td>\n",
       "      <td>10000</td>\n",
       "      <td>None</td>\n",
       "    </tr>\n",
       "    <tr>\n",
       "      <th>3</th>\n",
       "      <td>Male</td>\n",
       "      <td>28</td>\n",
       "      <td>Sales Representative</td>\n",
       "      <td>5.9</td>\n",
       "      <td>4</td>\n",
       "      <td>30</td>\n",
       "      <td>8</td>\n",
       "      <td>Obese</td>\n",
       "      <td>Hipertensão Estagio 1</td>\n",
       "      <td>85</td>\n",
       "      <td>3000</td>\n",
       "      <td>Sleep Apnea</td>\n",
       "    </tr>\n",
       "    <tr>\n",
       "      <th>4</th>\n",
       "      <td>Male</td>\n",
       "      <td>28</td>\n",
       "      <td>Sales Representative</td>\n",
       "      <td>5.9</td>\n",
       "      <td>4</td>\n",
       "      <td>30</td>\n",
       "      <td>8</td>\n",
       "      <td>Obese</td>\n",
       "      <td>Hipertensão Estagio 1</td>\n",
       "      <td>85</td>\n",
       "      <td>3000</td>\n",
       "      <td>Sleep Apnea</td>\n",
       "    </tr>\n",
       "    <tr>\n",
       "      <th>...</th>\n",
       "      <td>...</td>\n",
       "      <td>...</td>\n",
       "      <td>...</td>\n",
       "      <td>...</td>\n",
       "      <td>...</td>\n",
       "      <td>...</td>\n",
       "      <td>...</td>\n",
       "      <td>...</td>\n",
       "      <td>...</td>\n",
       "      <td>...</td>\n",
       "      <td>...</td>\n",
       "      <td>...</td>\n",
       "    </tr>\n",
       "    <tr>\n",
       "      <th>369</th>\n",
       "      <td>Female</td>\n",
       "      <td>59</td>\n",
       "      <td>Nurse</td>\n",
       "      <td>8.1</td>\n",
       "      <td>9</td>\n",
       "      <td>75</td>\n",
       "      <td>3</td>\n",
       "      <td>Obese</td>\n",
       "      <td>Hipertensão Estagio 1</td>\n",
       "      <td>68</td>\n",
       "      <td>7000</td>\n",
       "      <td>Sleep Apnea</td>\n",
       "    </tr>\n",
       "    <tr>\n",
       "      <th>370</th>\n",
       "      <td>Female</td>\n",
       "      <td>59</td>\n",
       "      <td>Nurse</td>\n",
       "      <td>8.0</td>\n",
       "      <td>9</td>\n",
       "      <td>75</td>\n",
       "      <td>3</td>\n",
       "      <td>Obese</td>\n",
       "      <td>Hipertensão Estagio 1</td>\n",
       "      <td>68</td>\n",
       "      <td>7000</td>\n",
       "      <td>Sleep Apnea</td>\n",
       "    </tr>\n",
       "    <tr>\n",
       "      <th>371</th>\n",
       "      <td>Female</td>\n",
       "      <td>59</td>\n",
       "      <td>Nurse</td>\n",
       "      <td>8.1</td>\n",
       "      <td>9</td>\n",
       "      <td>75</td>\n",
       "      <td>3</td>\n",
       "      <td>Obese</td>\n",
       "      <td>Hipertensão Estagio 1</td>\n",
       "      <td>68</td>\n",
       "      <td>7000</td>\n",
       "      <td>Sleep Apnea</td>\n",
       "    </tr>\n",
       "    <tr>\n",
       "      <th>372</th>\n",
       "      <td>Female</td>\n",
       "      <td>59</td>\n",
       "      <td>Nurse</td>\n",
       "      <td>8.1</td>\n",
       "      <td>9</td>\n",
       "      <td>75</td>\n",
       "      <td>3</td>\n",
       "      <td>Obese</td>\n",
       "      <td>Hipertensão Estagio 1</td>\n",
       "      <td>68</td>\n",
       "      <td>7000</td>\n",
       "      <td>Sleep Apnea</td>\n",
       "    </tr>\n",
       "    <tr>\n",
       "      <th>373</th>\n",
       "      <td>Female</td>\n",
       "      <td>59</td>\n",
       "      <td>Nurse</td>\n",
       "      <td>8.1</td>\n",
       "      <td>9</td>\n",
       "      <td>75</td>\n",
       "      <td>3</td>\n",
       "      <td>Obese</td>\n",
       "      <td>Hipertensão Estagio 1</td>\n",
       "      <td>68</td>\n",
       "      <td>7000</td>\n",
       "      <td>Sleep Apnea</td>\n",
       "    </tr>\n",
       "  </tbody>\n",
       "</table>\n",
       "<p>374 rows × 12 columns</p>\n",
       "</div>"
      ],
      "text/plain": [
       "     Gender  Age            Occupation  Sleep Duration  Quality of Sleep  \\\n",
       "0      Male   27     Software Engineer             6.1                 6   \n",
       "1      Male   28                Doctor             6.2                 6   \n",
       "2      Male   28                Doctor             6.2                 6   \n",
       "3      Male   28  Sales Representative             5.9                 4   \n",
       "4      Male   28  Sales Representative             5.9                 4   \n",
       "..      ...  ...                   ...             ...               ...   \n",
       "369  Female   59                 Nurse             8.1                 9   \n",
       "370  Female   59                 Nurse             8.0                 9   \n",
       "371  Female   59                 Nurse             8.1                 9   \n",
       "372  Female   59                 Nurse             8.1                 9   \n",
       "373  Female   59                 Nurse             8.1                 9   \n",
       "\n",
       "     Physical Activity Level  Stress Level BMI Category  \\\n",
       "0                         42             6        Obese   \n",
       "1                         60             8       Normal   \n",
       "2                         60             8       Normal   \n",
       "3                         30             8        Obese   \n",
       "4                         30             8        Obese   \n",
       "..                       ...           ...          ...   \n",
       "369                       75             3        Obese   \n",
       "370                       75             3        Obese   \n",
       "371                       75             3        Obese   \n",
       "372                       75             3        Obese   \n",
       "373                       75             3        Obese   \n",
       "\n",
       "            Blood Pressure  Heart Rate  Daily Steps Sleep Disorder  \n",
       "0                   Normal          77         4200           None  \n",
       "1                   Normal          75        10000           None  \n",
       "2                   Normal          75        10000           None  \n",
       "3    Hipertensão Estagio 1          85         3000    Sleep Apnea  \n",
       "4    Hipertensão Estagio 1          85         3000    Sleep Apnea  \n",
       "..                     ...         ...          ...            ...  \n",
       "369  Hipertensão Estagio 1          68         7000    Sleep Apnea  \n",
       "370  Hipertensão Estagio 1          68         7000    Sleep Apnea  \n",
       "371  Hipertensão Estagio 1          68         7000    Sleep Apnea  \n",
       "372  Hipertensão Estagio 1          68         7000    Sleep Apnea  \n",
       "373  Hipertensão Estagio 1          68         7000    Sleep Apnea  \n",
       "\n",
       "[374 rows x 12 columns]"
      ]
     },
     "execution_count": 10,
     "metadata": {},
     "output_type": "execute_result"
    }
   ],
   "source": [
    "df"
   ]
  },
  {
   "cell_type": "code",
   "execution_count": 11,
   "id": "c209053c-9e3b-46da-87c6-882d794ebfe6",
   "metadata": {
    "tags": []
   },
   "outputs": [
    {
     "data": {
      "text/plain": [
       "(['Gender', 'Occupation'],\n",
       " ['BMI Category'],\n",
       " ['Blood Pressure'],\n",
       " ['Sleep Duration'],\n",
       " ['Age',\n",
       "  'Quality of Sleep',\n",
       "  'Physical Activity Level',\n",
       "  'Stress Level',\n",
       "  'Heart Rate',\n",
       "  'Daily Steps'])"
      ]
     },
     "execution_count": 11,
     "metadata": {},
     "output_type": "execute_result"
    }
   ],
   "source": [
    "# Separar as variáveis\n",
    "\n",
    "variavel_alvo = 'Sleep Disorder'\n",
    "\n",
    "colunas_nominais = (\n",
    "    dicionario\n",
    "    .query(\"subtipo == 'nominal' and variavel != @variavel_alvo\")\n",
    "    .variavel\n",
    "    .to_list()\n",
    ")\n",
    "\n",
    "coluna_ordinal_imc = (\n",
    "    dicionario\n",
    "    .query(\"variavel in ['BMI Category']\")\n",
    "    .variavel\n",
    "    .to_list()\n",
    ")\n",
    "\n",
    "coluna_ordinal_bp = (\n",
    "    dicionario\n",
    "    .query(\"variavel in ['Blood Pressure']\")\n",
    "    .variavel\n",
    "    .to_list()\n",
    ")\n",
    "\n",
    "coluna_continua = (\n",
    "    dicionario\n",
    "    .query(\"subtipo == 'contínua'\")\n",
    "    .variavel\n",
    "    .to_list()\n",
    ")\n",
    "\n",
    "colunas_discretas = (\n",
    "    dicionario\n",
    "    .query(\"subtipo == 'discreta'\")\n",
    "    .variavel\n",
    "    .to_list()\n",
    ")\n",
    "\n",
    "colunas_quantitativas = (\n",
    "    dicionario\n",
    "    .query(\"tipo == 'quantitativa'\")\n",
    "    .variavel\n",
    "    .to_list()\n",
    ")\n",
    "\n",
    "\n",
    "\n",
    "X = df.drop(columns=[variavel_alvo], axis=1)\n",
    "y = df[variavel_alvo]\n",
    "\n",
    "colunas_nominais, coluna_ordinal_imc, coluna_ordinal_bp, coluna_continua, colunas_discretas"
   ]
  },
  {
   "cell_type": "code",
   "execution_count": 12,
   "id": "82650668-af5a-4c7f-99c0-2590670804d7",
   "metadata": {
    "tags": []
   },
   "outputs": [
    {
     "data": {
      "text/html": [
       "<div>\n",
       "<style scoped>\n",
       "    .dataframe tbody tr th:only-of-type {\n",
       "        vertical-align: middle;\n",
       "    }\n",
       "\n",
       "    .dataframe tbody tr th {\n",
       "        vertical-align: top;\n",
       "    }\n",
       "\n",
       "    .dataframe thead th {\n",
       "        text-align: right;\n",
       "    }\n",
       "</style>\n",
       "<table border=\"1\" class=\"dataframe\">\n",
       "  <thead>\n",
       "    <tr style=\"text-align: right;\">\n",
       "      <th></th>\n",
       "      <th>Gender</th>\n",
       "      <th>Age</th>\n",
       "      <th>Occupation</th>\n",
       "      <th>Sleep Duration</th>\n",
       "      <th>Quality of Sleep</th>\n",
       "      <th>Physical Activity Level</th>\n",
       "      <th>Stress Level</th>\n",
       "      <th>BMI Category</th>\n",
       "      <th>Blood Pressure</th>\n",
       "      <th>Heart Rate</th>\n",
       "      <th>Daily Steps</th>\n",
       "    </tr>\n",
       "  </thead>\n",
       "  <tbody>\n",
       "    <tr>\n",
       "      <th>0</th>\n",
       "      <td>Male</td>\n",
       "      <td>27</td>\n",
       "      <td>Software Engineer</td>\n",
       "      <td>6.1</td>\n",
       "      <td>6</td>\n",
       "      <td>42</td>\n",
       "      <td>6</td>\n",
       "      <td>Obese</td>\n",
       "      <td>Normal</td>\n",
       "      <td>77</td>\n",
       "      <td>4200</td>\n",
       "    </tr>\n",
       "    <tr>\n",
       "      <th>1</th>\n",
       "      <td>Male</td>\n",
       "      <td>28</td>\n",
       "      <td>Doctor</td>\n",
       "      <td>6.2</td>\n",
       "      <td>6</td>\n",
       "      <td>60</td>\n",
       "      <td>8</td>\n",
       "      <td>Normal</td>\n",
       "      <td>Normal</td>\n",
       "      <td>75</td>\n",
       "      <td>10000</td>\n",
       "    </tr>\n",
       "    <tr>\n",
       "      <th>2</th>\n",
       "      <td>Male</td>\n",
       "      <td>28</td>\n",
       "      <td>Doctor</td>\n",
       "      <td>6.2</td>\n",
       "      <td>6</td>\n",
       "      <td>60</td>\n",
       "      <td>8</td>\n",
       "      <td>Normal</td>\n",
       "      <td>Normal</td>\n",
       "      <td>75</td>\n",
       "      <td>10000</td>\n",
       "    </tr>\n",
       "    <tr>\n",
       "      <th>3</th>\n",
       "      <td>Male</td>\n",
       "      <td>28</td>\n",
       "      <td>Sales Representative</td>\n",
       "      <td>5.9</td>\n",
       "      <td>4</td>\n",
       "      <td>30</td>\n",
       "      <td>8</td>\n",
       "      <td>Obese</td>\n",
       "      <td>Hipertensão Estagio 1</td>\n",
       "      <td>85</td>\n",
       "      <td>3000</td>\n",
       "    </tr>\n",
       "    <tr>\n",
       "      <th>4</th>\n",
       "      <td>Male</td>\n",
       "      <td>28</td>\n",
       "      <td>Sales Representative</td>\n",
       "      <td>5.9</td>\n",
       "      <td>4</td>\n",
       "      <td>30</td>\n",
       "      <td>8</td>\n",
       "      <td>Obese</td>\n",
       "      <td>Hipertensão Estagio 1</td>\n",
       "      <td>85</td>\n",
       "      <td>3000</td>\n",
       "    </tr>\n",
       "  </tbody>\n",
       "</table>\n",
       "</div>"
      ],
      "text/plain": [
       "  Gender  Age            Occupation  Sleep Duration  Quality of Sleep  \\\n",
       "0   Male   27     Software Engineer             6.1                 6   \n",
       "1   Male   28                Doctor             6.2                 6   \n",
       "2   Male   28                Doctor             6.2                 6   \n",
       "3   Male   28  Sales Representative             5.9                 4   \n",
       "4   Male   28  Sales Representative             5.9                 4   \n",
       "\n",
       "   Physical Activity Level  Stress Level BMI Category         Blood Pressure  \\\n",
       "0                       42             6        Obese                 Normal   \n",
       "1                       60             8       Normal                 Normal   \n",
       "2                       60             8       Normal                 Normal   \n",
       "3                       30             8        Obese  Hipertensão Estagio 1   \n",
       "4                       30             8        Obese  Hipertensão Estagio 1   \n",
       "\n",
       "   Heart Rate  Daily Steps  \n",
       "0          77         4200  \n",
       "1          75        10000  \n",
       "2          75        10000  \n",
       "3          85         3000  \n",
       "4          85         3000  "
      ]
     },
     "execution_count": 12,
     "metadata": {},
     "output_type": "execute_result"
    }
   ],
   "source": [
    "# Variáveis independente\n",
    "X.head()\n"
   ]
  },
  {
   "cell_type": "code",
   "execution_count": 13,
   "id": "cd7ff186-eea9-4318-895d-1ca1c27eece6",
   "metadata": {
    "tags": []
   },
   "outputs": [
    {
     "data": {
      "text/plain": [
       "(374, 11)"
      ]
     },
     "execution_count": 13,
     "metadata": {},
     "output_type": "execute_result"
    }
   ],
   "source": [
    "X.shape"
   ]
  },
  {
   "cell_type": "code",
   "execution_count": 14,
   "id": "6e94730a-8ac0-4ce8-aaf3-8130810bcbb7",
   "metadata": {
    "tags": []
   },
   "outputs": [
    {
     "data": {
      "text/plain": [
       "0             None\n",
       "1             None\n",
       "2             None\n",
       "3      Sleep Apnea\n",
       "4      Sleep Apnea\n",
       "          ...     \n",
       "369    Sleep Apnea\n",
       "370    Sleep Apnea\n",
       "371    Sleep Apnea\n",
       "372    Sleep Apnea\n",
       "373    Sleep Apnea\n",
       "Name: Sleep Disorder, Length: 374, dtype: object"
      ]
     },
     "execution_count": 14,
     "metadata": {},
     "output_type": "execute_result"
    }
   ],
   "source": [
    "# Variável dependente\n",
    "y"
   ]
  },
  {
   "cell_type": "code",
   "execution_count": 15,
   "id": "b31fe81c-e8d4-4e3a-9d0a-0da96f308e50",
   "metadata": {
    "tags": []
   },
   "outputs": [],
   "source": [
    "z_scores = stats.zscore(df.select_dtypes(include=[float, int]))\n",
    "abs_z_scores = abs(z_scores)\n",
    "filtro = (abs_z_scores < 3).all(axis=1)\n",
    "\n",
    "novo_df = df[filtro]\n",
    "\n",
    "X = novo_df\n",
    "\n",
    "y = df[filtro][variavel_alvo]"
   ]
  },
  {
   "cell_type": "code",
   "execution_count": 16,
   "id": "e5577f91-133c-4a5f-b391-4541be448605",
   "metadata": {
    "tags": []
   },
   "outputs": [
    {
     "data": {
      "text/plain": [
       "(365, 12)"
      ]
     },
     "execution_count": 16,
     "metadata": {},
     "output_type": "execute_result"
    }
   ],
   "source": [
    "X.shape"
   ]
  },
  {
   "cell_type": "code",
   "execution_count": 17,
   "id": "95c967d2-d74f-4e3a-9a1d-bfcc5216a441",
   "metadata": {
    "tags": []
   },
   "outputs": [
    {
     "data": {
      "text/plain": [
       "(365,)"
      ]
     },
     "execution_count": 17,
     "metadata": {},
     "output_type": "execute_result"
    }
   ],
   "source": [
    "y.shape"
   ]
  },
  {
   "cell_type": "code",
   "execution_count": 18,
   "id": "29c9b703-e1e9-40e0-9cea-8131343173ca",
   "metadata": {
    "tags": []
   },
   "outputs": [
    {
     "data": {
      "image/png": "[encoded data removed]",
      "text/plain": [
       "<Figure size 800x2500 with 7 Axes>"
      ]
     },
     "metadata": {},
     "output_type": "display_data"
    }
   ],
   "source": [
    "fig, axes = plt.subplots(7, 1, figsize=(8, 25))\n",
    "plt.tight_layout(pad=4, w_pad=2, h_pad=2)\n",
    "\n",
    "for i, variavel in enumerate(colunas_quantitativas):\n",
    "    ax = sns.boxplot(\n",
    "        y=X[variavel], \n",
    "        ax=axes[i],\n",
    "        color=colors[2]\n",
    "    ) \n",
    "    ax.grid(axis='y', linestyle='-')\n",
    "\n",
    "plt.show()"
   ]
  },
  {
   "cell_type": "markdown",
   "id": "017993e5-65e2-49f5-ba1b-3742124bd739",
   "metadata": {},
   "source": [
    "### - Transformação de dados"
   ]
  },
  {
   "cell_type": "code",
   "execution_count": 19,
   "id": "4380f81b-d9a5-4eb1-af7f-a077d1164da5",
   "metadata": {
    "tags": []
   },
   "outputs": [],
   "source": [
    "# tratamento de dados discrepantes\n",
    "nominal_preprocessor = Pipeline([\n",
    "    ('missing', SimpleImputer(strategy='most_frequent')), # tratamento de dados faltantes\n",
    "    ('encoding', OneHotEncoder(sparse_output=False, drop='first')), # codificação de variáveis\n",
    "    ('normalization', StandardScaler()) # normalização de dados\n",
    "])\n",
    "\n",
    "ordinal_imc_preprocessor = Pipeline([\n",
    "    ('missing', SimpleImputer(strategy='most_frequent')), # tratamento de dados faltantes\n",
    "    ('encoding', OrdinalEncoder(categories=[['Normal', 'Obese']])), # codificação de variáveis\n",
    "    ('normalization', StandardScaler()) # normalização de dados\n",
    "])\n",
    "\n",
    "ordinal_bp_preprocessor = Pipeline([\n",
    "    ('missing', SimpleImputer(strategy='most_frequent')), # tratamento de dados faltantes\n",
    "    ('encoding', OrdinalEncoder(categories=[['Normal', 'Normal Limitrofe', 'Hipertensão Estagio 1']])), # codificação de variáveis\n",
    "    ('normalization', StandardScaler()) # normalização de dados\n",
    "])\n",
    "\n",
    "continua_preprocessor = Pipeline([\n",
    "    ('missing', SimpleImputer(strategy='mean')), # tratamento de dados faltantes\n",
    "    ('normalization', StandardScaler()) # normalização de dados\n",
    "])\n",
    "\n",
    "discreta_preprocessor = Pipeline([\n",
    "    ('missing', SimpleImputer(strategy='median')), # tratamento de dados faltantes\n",
    "    ('normalization', StandardScaler()) # normalização de dados\n",
    "])\n",
    "\n",
    "preprocessor = ColumnTransformer([\n",
    "    ('nominal', nominal_preprocessor, colunas_nominais),\n",
    "    ('ordinal_imc', ordinal_imc_preprocessor, coluna_ordinal_imc),\n",
    "    ('ordinal_bp', ordinal_bp_preprocessor, coluna_ordinal_bp),\n",
    "    ('continua', continua_preprocessor, coluna_continua),\n",
    "    ('discreta', discreta_preprocessor, colunas_discretas)\n",
    "])\n",
    "\n",
    "model = LogisticRegression()"
   ]
  },
  {
   "cell_type": "code",
   "execution_count": 20,
   "id": "016b1b66-9dd9-48ad-8c4f-5d478583efa0",
   "metadata": {
    "tags": []
   },
   "outputs": [
    {
     "data": {
      "text/plain": [
       "array([[ 1.00825323, -0.47416475, -0.45673764, ...,  0.35003901,\n",
       "         2.05661076, -1.75687037],\n",
       "       [ 1.00825323,  2.1089716 , -0.45673764, ...,  1.48069601,\n",
       "         1.48445914,  2.0133218 ],\n",
       "       [ 1.00825323,  2.1089716 , -0.45673764, ...,  1.48069601,\n",
       "         1.48445914,  2.0133218 ],\n",
       "       ...,\n",
       "       [-0.99181432, -0.47416475, -0.45673764, ..., -1.34594648,\n",
       "        -0.51807154,  0.0632224 ],\n",
       "       [-0.99181432, -0.47416475, -0.45673764, ..., -1.34594648,\n",
       "        -0.51807154,  0.0632224 ],\n",
       "       [-0.99181432, -0.47416475, -0.45673764, ..., -1.34594648,\n",
       "        -0.51807154,  0.0632224 ]])"
      ]
     },
     "execution_count": 20,
     "metadata": {},
     "output_type": "execute_result"
    }
   ],
   "source": [
    "preprocessor.fit_transform(X)"
   ]
  },
  {
   "cell_type": "code",
   "execution_count": 21,
   "id": "66fdd4bf-5eb5-497a-b430-1adbe8be879b",
   "metadata": {
    "tags": []
   },
   "outputs": [
    {
     "data": {
      "text/plain": [
       "array([[ 1.00825323, -0.47416475, -0.45673764, ...,  0.35003901,\n",
       "         2.05661076, -1.75687037],\n",
       "       [ 1.00825323,  2.1089716 , -0.45673764, ...,  1.48069601,\n",
       "         1.48445914,  2.0133218 ],\n",
       "       [ 1.00825323,  2.1089716 , -0.45673764, ...,  1.48069601,\n",
       "         1.48445914,  2.0133218 ],\n",
       "       ...,\n",
       "       [-0.99181432, -0.47416475, -0.45673764, ..., -1.34594648,\n",
       "        -0.51807154,  0.0632224 ],\n",
       "       [-0.99181432, -0.47416475, -0.45673764, ..., -1.34594648,\n",
       "        -0.51807154,  0.0632224 ],\n",
       "       [-0.99181432, -0.47416475, -0.45673764, ..., -1.34594648,\n",
       "        -0.51807154,  0.0632224 ]])"
      ]
     },
     "execution_count": 21,
     "metadata": {},
     "output_type": "execute_result"
    }
   ],
   "source": [
    "X_transform = preprocessor.transform(X)\n",
    "X_transform"
   ]
  },
  {
   "cell_type": "markdown",
   "id": "860b088c-1169-46e8-bd49-7dd976a8be42",
   "metadata": {},
   "source": [
    "## 3. Seleção de modelos"
   ]
  },
  {
   "cell_type": "markdown",
   "id": "d83f5277-137a-4454-a296-ba578d6786b3",
   "metadata": {},
   "source": [
    "Os modelos selecionados são:\n",
    "\n",
    "- K-Nearest-Neighbors\n",
    "- Support Vector Machine\n",
    "- Decision Tree\n",
    "- Random Forest"
   ]
  },
  {
   "cell_type": "code",
   "execution_count": 22,
   "id": "c23ad8df-8c55-48fd-a187-530b4888ec3f",
   "metadata": {
    "tags": []
   },
   "outputs": [],
   "source": [
    "# Configurações do experimento\n",
    "n_splits_comparative_analysis = 10\n",
    "n_folds_grid_search = 5\n",
    "test_size = 0.2\n",
    "random_state = 42\n",
    "scoring = 'accuracy'\n",
    "\n",
    "# Métricas para análises\n",
    "metrics = ['accuracy', 'precision_macro', 'recall_macro', 'f1_macro']"
   ]
  },
  {
   "cell_type": "code",
   "execution_count": 23,
   "id": "2d282d39-7585-4668-ae11-7242b11f0c8b",
   "metadata": {
    "tags": []
   },
   "outputs": [],
   "source": [
    "# Configurações do modelo\n",
    "max_iter = 1000\n",
    "models = [\n",
    "    ('K-Nearest Neighbors', KNeighborsClassifier(), {\"n_neighbors\": range(3, 20, 2), 'weights': ['uniform', 'distance']}),\n",
    "    ('Decision Tree',  DecisionTreeClassifier(random_state=random_state), {'criterion':['gini','entropy'],'max_depth': [3, 6, 8]}),\n",
    "    ('Random Forest',  RandomForestClassifier(random_state=random_state), {'criterion':['gini','entropy'],'max_depth': [3, 6, 8], 'n_estimators': [10, 30]})\n",
    "]"
   ]
  },
  {
   "cell_type": "code",
   "execution_count": 24,
   "id": "c0b1e6dd-16e5-4bea-b4a1-b700e58ffb09",
   "metadata": {
    "tags": []
   },
   "outputs": [
    {
     "name": "stdout",
     "output_type": "stream",
     "text": [
      "running K-Nearest Neighbors...\n"
     ]
    },
    {
     "data": {
      "text/html": [
       "<div>\n",
       "<style scoped>\n",
       "    .dataframe tbody tr th:only-of-type {\n",
       "        vertical-align: middle;\n",
       "    }\n",
       "\n",
       "    .dataframe tbody tr th {\n",
       "        vertical-align: top;\n",
       "    }\n",
       "\n",
       "    .dataframe thead th {\n",
       "        text-align: right;\n",
       "    }\n",
       "</style>\n",
       "<table border=\"1\" class=\"dataframe\">\n",
       "  <thead>\n",
       "    <tr style=\"text-align: right;\">\n",
       "      <th></th>\n",
       "      <th>fit_time</th>\n",
       "      <th>score_time</th>\n",
       "      <th>test_accuracy</th>\n",
       "      <th>test_precision_macro</th>\n",
       "      <th>test_recall_macro</th>\n",
       "      <th>test_f1_macro</th>\n",
       "    </tr>\n",
       "  </thead>\n",
       "  <tbody>\n",
       "    <tr>\n",
       "      <th>mean</th>\n",
       "      <td>1.519222</td>\n",
       "      <td>0.067790</td>\n",
       "      <td>0.891781</td>\n",
       "      <td>0.874197</td>\n",
       "      <td>0.870144</td>\n",
       "      <td>0.869405</td>\n",
       "    </tr>\n",
       "    <tr>\n",
       "      <th>std</th>\n",
       "      <td>0.331873</td>\n",
       "      <td>0.032554</td>\n",
       "      <td>0.033211</td>\n",
       "      <td>0.037430</td>\n",
       "      <td>0.038915</td>\n",
       "      <td>0.036641</td>\n",
       "    </tr>\n",
       "  </tbody>\n",
       "</table>\n",
       "</div>"
      ],
      "text/plain": [
       "      fit_time  score_time  test_accuracy  test_precision_macro  \\\n",
       "mean  1.519222    0.067790       0.891781              0.874197   \n",
       "std   0.331873    0.032554       0.033211              0.037430   \n",
       "\n",
       "      test_recall_macro  test_f1_macro  \n",
       "mean           0.870144       0.869405  \n",
       "std            0.038915       0.036641  "
      ]
     },
     "metadata": {},
     "output_type": "display_data"
    },
    {
     "name": "stdout",
     "output_type": "stream",
     "text": [
      "running Decision Tree...\n"
     ]
    },
    {
     "data": {
      "text/html": [
       "<div>\n",
       "<style scoped>\n",
       "    .dataframe tbody tr th:only-of-type {\n",
       "        vertical-align: middle;\n",
       "    }\n",
       "\n",
       "    .dataframe tbody tr th {\n",
       "        vertical-align: top;\n",
       "    }\n",
       "\n",
       "    .dataframe thead th {\n",
       "        text-align: right;\n",
       "    }\n",
       "</style>\n",
       "<table border=\"1\" class=\"dataframe\">\n",
       "  <thead>\n",
       "    <tr style=\"text-align: right;\">\n",
       "      <th></th>\n",
       "      <th>fit_time</th>\n",
       "      <th>score_time</th>\n",
       "      <th>test_accuracy</th>\n",
       "      <th>test_precision_macro</th>\n",
       "      <th>test_recall_macro</th>\n",
       "      <th>test_f1_macro</th>\n",
       "    </tr>\n",
       "  </thead>\n",
       "  <tbody>\n",
       "    <tr>\n",
       "      <th>mean</th>\n",
       "      <td>0.407268</td>\n",
       "      <td>0.043231</td>\n",
       "      <td>0.900000</td>\n",
       "      <td>0.879010</td>\n",
       "      <td>0.873759</td>\n",
       "      <td>0.873108</td>\n",
       "    </tr>\n",
       "    <tr>\n",
       "      <th>std</th>\n",
       "      <td>0.065414</td>\n",
       "      <td>0.011282</td>\n",
       "      <td>0.025871</td>\n",
       "      <td>0.023791</td>\n",
       "      <td>0.036135</td>\n",
       "      <td>0.031908</td>\n",
       "    </tr>\n",
       "  </tbody>\n",
       "</table>\n",
       "</div>"
      ],
      "text/plain": [
       "      fit_time  score_time  test_accuracy  test_precision_macro  \\\n",
       "mean  0.407268    0.043231       0.900000              0.879010   \n",
       "std   0.065414    0.011282       0.025871              0.023791   \n",
       "\n",
       "      test_recall_macro  test_f1_macro  \n",
       "mean           0.873759       0.873108  \n",
       "std            0.036135       0.031908  "
      ]
     },
     "metadata": {},
     "output_type": "display_data"
    },
    {
     "name": "stdout",
     "output_type": "stream",
     "text": [
      "running Random Forest...\n"
     ]
    },
    {
     "data": {
      "text/html": [
       "<div>\n",
       "<style scoped>\n",
       "    .dataframe tbody tr th:only-of-type {\n",
       "        vertical-align: middle;\n",
       "    }\n",
       "\n",
       "    .dataframe tbody tr th {\n",
       "        vertical-align: top;\n",
       "    }\n",
       "\n",
       "    .dataframe thead th {\n",
       "        text-align: right;\n",
       "    }\n",
       "</style>\n",
       "<table border=\"1\" class=\"dataframe\">\n",
       "  <thead>\n",
       "    <tr style=\"text-align: right;\">\n",
       "      <th></th>\n",
       "      <th>fit_time</th>\n",
       "      <th>score_time</th>\n",
       "      <th>test_accuracy</th>\n",
       "      <th>test_precision_macro</th>\n",
       "      <th>test_recall_macro</th>\n",
       "      <th>test_f1_macro</th>\n",
       "    </tr>\n",
       "  </thead>\n",
       "  <tbody>\n",
       "    <tr>\n",
       "      <th>mean</th>\n",
       "      <td>8.164397</td>\n",
       "      <td>0.050171</td>\n",
       "      <td>0.917808</td>\n",
       "      <td>0.906642</td>\n",
       "      <td>0.890846</td>\n",
       "      <td>0.89471</td>\n",
       "    </tr>\n",
       "    <tr>\n",
       "      <th>std</th>\n",
       "      <td>0.908735</td>\n",
       "      <td>0.014609</td>\n",
       "      <td>0.025010</td>\n",
       "      <td>0.022015</td>\n",
       "      <td>0.025758</td>\n",
       "      <td>0.02373</td>\n",
       "    </tr>\n",
       "  </tbody>\n",
       "</table>\n",
       "</div>"
      ],
      "text/plain": [
       "      fit_time  score_time  test_accuracy  test_precision_macro  \\\n",
       "mean  8.164397    0.050171       0.917808              0.906642   \n",
       "std   0.908735    0.014609       0.025010              0.022015   \n",
       "\n",
       "      test_recall_macro  test_f1_macro  \n",
       "mean           0.890846        0.89471  \n",
       "std            0.025758        0.02373  "
      ]
     },
     "metadata": {},
     "output_type": "display_data"
    }
   ],
   "source": [
    "results = pd.DataFrame({})\n",
    "cross_validate_grid_search = KFold(n_splits=n_folds_grid_search)\n",
    "cross_validate_comparative_analysis = ShuffleSplit(n_splits=n_splits_comparative_analysis, test_size=test_size, random_state=random_state)\n",
    "for model_name, model_object, model_parameters in models:\n",
    "    print(f\"running {model_name}...\")\n",
    "    model_grid_search = GridSearchCV(\n",
    "        estimator=model_object,\n",
    "        param_grid=model_parameters,\n",
    "        scoring=scoring,\n",
    "        n_jobs=-1,\n",
    "        cv=cross_validate_grid_search\n",
    "    )\n",
    "    approach = Pipeline(steps=[\n",
    "        ('preprocessor', preprocessor),\n",
    "        ('model', model_grid_search)\n",
    "    ])\n",
    "    scores = cross_validate(\n",
    "        estimator=approach,\n",
    "        X=X,\n",
    "        y=y,\n",
    "        cv=cross_validate_comparative_analysis,\n",
    "        n_jobs=-1,\n",
    "        scoring=metrics\n",
    "    )\n",
    "    scores['model_name'] = [model_name] * n_splits_comparative_analysis\n",
    "    df_scores = pd.DataFrame(scores)\n",
    "    df_scores =  df_scores.drop(columns=['model_name'])\n",
    "    df_scores = df_scores.agg(['mean', 'std'])\n",
    "    display(df_scores)\n",
    "    results = pd.concat([results, pd.DataFrame(scores)], ignore_index=True)"
   ]
  },
  {
   "cell_type": "code",
   "execution_count": 25,
   "id": "b3ebae3f-e839-439f-96d2-26fa60318bb2",
   "metadata": {},
   "outputs": [
    {
     "data": {
      "text/markdown": [
       "### 3.1 Resultados gerais"
      ],
      "text/plain": [
       "<IPython.core.display.Markdown object>"
      ]
     },
     "metadata": {},
     "output_type": "display_data"
    },
    {
     "data": {
      "text/html": [
       "<style type=\"text/css\">\n",
       "#T_de1ca td {\n",
       "  text-align: center;\n",
       "}\n",
       "#T_de1ca_row0_col0, #T_de1ca_row2_col0, #T_de1ca_row4_col2, #T_de1ca_row6_col2, #T_de1ca_row8_col2, #T_de1ca_row10_col2 {\n",
       "  color: white;\n",
       "  background-color: gray;\n",
       "  font-weight: bold;\n",
       "}\n",
       "</style>\n",
       "<table id=\"T_de1ca\">\n",
       "  <thead>\n",
       "    <tr>\n",
       "      <th class=\"blank\" >&nbsp;</th>\n",
       "      <th class=\"index_name level0\" >model_name</th>\n",
       "      <th id=\"T_de1ca_level0_col0\" class=\"col_heading level0 col0\" >Decision Tree</th>\n",
       "      <th id=\"T_de1ca_level0_col1\" class=\"col_heading level0 col1\" >K-Nearest Neighbors</th>\n",
       "      <th id=\"T_de1ca_level0_col2\" class=\"col_heading level0 col2\" >Random Forest</th>\n",
       "    </tr>\n",
       "  </thead>\n",
       "  <tbody>\n",
       "    <tr>\n",
       "      <th id=\"T_de1ca_level0_row0\" class=\"row_heading level0 row0\" rowspan=\"2\">fit_time</th>\n",
       "      <th id=\"T_de1ca_level1_row0\" class=\"row_heading level1 row0\" >mean</th>\n",
       "      <td id=\"T_de1ca_row0_col0\" class=\"data row0 col0\" >0.407268</td>\n",
       "      <td id=\"T_de1ca_row0_col1\" class=\"data row0 col1\" >1.519222</td>\n",
       "      <td id=\"T_de1ca_row0_col2\" class=\"data row0 col2\" >8.164397</td>\n",
       "    </tr>\n",
       "    <tr>\n",
       "      <th id=\"T_de1ca_level1_row1\" class=\"row_heading level1 row1\" >std</th>\n",
       "      <td id=\"T_de1ca_row1_col0\" class=\"data row1 col0\" >0.065414</td>\n",
       "      <td id=\"T_de1ca_row1_col1\" class=\"data row1 col1\" >0.331873</td>\n",
       "      <td id=\"T_de1ca_row1_col2\" class=\"data row1 col2\" >0.908735</td>\n",
       "    </tr>\n",
       "    <tr>\n",
       "      <th id=\"T_de1ca_level0_row2\" class=\"row_heading level0 row2\" rowspan=\"2\">score_time</th>\n",
       "      <th id=\"T_de1ca_level1_row2\" class=\"row_heading level1 row2\" >mean</th>\n",
       "      <td id=\"T_de1ca_row2_col0\" class=\"data row2 col0\" >0.043231</td>\n",
       "      <td id=\"T_de1ca_row2_col1\" class=\"data row2 col1\" >0.067790</td>\n",
       "      <td id=\"T_de1ca_row2_col2\" class=\"data row2 col2\" >0.050171</td>\n",
       "    </tr>\n",
       "    <tr>\n",
       "      <th id=\"T_de1ca_level1_row3\" class=\"row_heading level1 row3\" >std</th>\n",
       "      <td id=\"T_de1ca_row3_col0\" class=\"data row3 col0\" >0.011282</td>\n",
       "      <td id=\"T_de1ca_row3_col1\" class=\"data row3 col1\" >0.032554</td>\n",
       "      <td id=\"T_de1ca_row3_col2\" class=\"data row3 col2\" >0.014609</td>\n",
       "    </tr>\n",
       "    <tr>\n",
       "      <th id=\"T_de1ca_level0_row4\" class=\"row_heading level0 row4\" rowspan=\"2\">test_accuracy</th>\n",
       "      <th id=\"T_de1ca_level1_row4\" class=\"row_heading level1 row4\" >mean</th>\n",
       "      <td id=\"T_de1ca_row4_col0\" class=\"data row4 col0\" >0.900000</td>\n",
       "      <td id=\"T_de1ca_row4_col1\" class=\"data row4 col1\" >0.891781</td>\n",
       "      <td id=\"T_de1ca_row4_col2\" class=\"data row4 col2\" >0.917808</td>\n",
       "    </tr>\n",
       "    <tr>\n",
       "      <th id=\"T_de1ca_level1_row5\" class=\"row_heading level1 row5\" >std</th>\n",
       "      <td id=\"T_de1ca_row5_col0\" class=\"data row5 col0\" >0.025871</td>\n",
       "      <td id=\"T_de1ca_row5_col1\" class=\"data row5 col1\" >0.033211</td>\n",
       "      <td id=\"T_de1ca_row5_col2\" class=\"data row5 col2\" >0.025010</td>\n",
       "    </tr>\n",
       "    <tr>\n",
       "      <th id=\"T_de1ca_level0_row6\" class=\"row_heading level0 row6\" rowspan=\"2\">test_precision_macro</th>\n",
       "      <th id=\"T_de1ca_level1_row6\" class=\"row_heading level1 row6\" >mean</th>\n",
       "      <td id=\"T_de1ca_row6_col0\" class=\"data row6 col0\" >0.879010</td>\n",
       "      <td id=\"T_de1ca_row6_col1\" class=\"data row6 col1\" >0.874197</td>\n",
       "      <td id=\"T_de1ca_row6_col2\" class=\"data row6 col2\" >0.906642</td>\n",
       "    </tr>\n",
       "    <tr>\n",
       "      <th id=\"T_de1ca_level1_row7\" class=\"row_heading level1 row7\" >std</th>\n",
       "      <td id=\"T_de1ca_row7_col0\" class=\"data row7 col0\" >0.023791</td>\n",
       "      <td id=\"T_de1ca_row7_col1\" class=\"data row7 col1\" >0.037430</td>\n",
       "      <td id=\"T_de1ca_row7_col2\" class=\"data row7 col2\" >0.022015</td>\n",
       "    </tr>\n",
       "    <tr>\n",
       "      <th id=\"T_de1ca_level0_row8\" class=\"row_heading level0 row8\" rowspan=\"2\">test_recall_macro</th>\n",
       "      <th id=\"T_de1ca_level1_row8\" class=\"row_heading level1 row8\" >mean</th>\n",
       "      <td id=\"T_de1ca_row8_col0\" class=\"data row8 col0\" >0.873759</td>\n",
       "      <td id=\"T_de1ca_row8_col1\" class=\"data row8 col1\" >0.870144</td>\n",
       "      <td id=\"T_de1ca_row8_col2\" class=\"data row8 col2\" >0.890846</td>\n",
       "    </tr>\n",
       "    <tr>\n",
       "      <th id=\"T_de1ca_level1_row9\" class=\"row_heading level1 row9\" >std</th>\n",
       "      <td id=\"T_de1ca_row9_col0\" class=\"data row9 col0\" >0.036135</td>\n",
       "      <td id=\"T_de1ca_row9_col1\" class=\"data row9 col1\" >0.038915</td>\n",
       "      <td id=\"T_de1ca_row9_col2\" class=\"data row9 col2\" >0.025758</td>\n",
       "    </tr>\n",
       "    <tr>\n",
       "      <th id=\"T_de1ca_level0_row10\" class=\"row_heading level0 row10\" rowspan=\"2\">test_f1_macro</th>\n",
       "      <th id=\"T_de1ca_level1_row10\" class=\"row_heading level1 row10\" >mean</th>\n",
       "      <td id=\"T_de1ca_row10_col0\" class=\"data row10 col0\" >0.873108</td>\n",
       "      <td id=\"T_de1ca_row10_col1\" class=\"data row10 col1\" >0.869405</td>\n",
       "      <td id=\"T_de1ca_row10_col2\" class=\"data row10 col2\" >0.894710</td>\n",
       "    </tr>\n",
       "    <tr>\n",
       "      <th id=\"T_de1ca_level1_row11\" class=\"row_heading level1 row11\" >std</th>\n",
       "      <td id=\"T_de1ca_row11_col0\" class=\"data row11 col0\" >0.031908</td>\n",
       "      <td id=\"T_de1ca_row11_col1\" class=\"data row11 col1\" >0.036641</td>\n",
       "      <td id=\"T_de1ca_row11_col2\" class=\"data row11 col2\" >0.023730</td>\n",
       "    </tr>\n",
       "  </tbody>\n",
       "</table>\n"
      ],
      "text/plain": [
       "<pandas.io.formats.style.Styler at 0x7f6aa3ed88e0>"
      ]
     },
     "execution_count": 25,
     "metadata": {},
     "output_type": "execute_result"
    }
   ],
   "source": [
    "def highlight_best(s, props=''):\n",
    "    if s.name[1] != 'std':\n",
    "        if s.name[0].endswith('time'):\n",
    "            return np.where(s == np.nanmin(s.values), props, '')\n",
    "        return np.where(s == np.nanmax(s.values), props, '')\n",
    "\n",
    "display(Markdown(\"### 3.1 Resultados gerais\"))\n",
    "(\n",
    "    results\n",
    "    .groupby('model_name')\n",
    "    .agg(['mean', 'std']).T\n",
    "    .style\n",
    "    .apply(highlight_best, props='color:white;background-color:gray;font-weight: bold;', axis=1)\n",
    "    .set_table_styles([{'selector': 'td', 'props': 'text-align: center;'}])\n",
    ")"
   ]
  },
  {
   "cell_type": "markdown",
   "id": "873e2eed-358c-4e90-925c-5f834a6323d7",
   "metadata": {},
   "source": [
    "Como pode ser visto, o classificador Random Forest obteve melhores resultados para todas as métricas."
   ]
  },
  {
   "cell_type": "markdown",
   "id": "8f7b379e-d232-467a-a65e-cda3c79eafce",
   "metadata": {},
   "source": [
    "### 3.2 Persistência do modelo"
   ]
  },
  {
   "cell_type": "code",
   "execution_count": 26,
   "id": "547b0661-c73e-4f4d-a0f9-81679972dbcc",
   "metadata": {},
   "outputs": [
    {
     "name": "stdout",
     "output_type": "stream",
     "text": [
      "Hiper parâmetros do modelo: {'n_neighbors': 17, 'weights': 'uniform'}\n"
     ]
    }
   ],
   "source": [
    "# Obtem o modelo e os parametros ganhadores\n",
    "model_name, model_object, model_parameters  = [foo for foo in models if foo[0] == \"K-Nearest Neighbors\"][0] \n",
    "\n",
    "model_grid_search = GridSearchCV(\n",
    "        estimator=model_object,\n",
    "        param_grid=model_parameters,\n",
    "        scoring=scoring,\n",
    "        n_jobs=-1,\n",
    "        cv=cross_validate_grid_search\n",
    "    )\n",
    "\n",
    "approach = Pipeline([\n",
    "    (\"preprocessor\", preprocessor),\n",
    "    (\"model\", model_grid_search)\n",
    "])\n",
    "\n",
    "approach.fit(X, y) #Seleciona o approach\n",
    "\n",
    "print(f\"Hiper parâmetros do modelo: {approach.steps[1][1].best_params_}\")"
   ]
  },
  {
   "cell_type": "code",
   "execution_count": 27,
   "id": "c4397aca-9f2b-47e0-9683-637d540170c3",
   "metadata": {
    "tags": []
   },
   "outputs": [
    {
     "data": {
      "text/plain": [
       "['../models/model.joblib']"
      ]
     },
     "execution_count": 27,
     "metadata": {},
     "output_type": "execute_result"
    }
   ],
   "source": [
    "joblib.dump(approach, '../models/model.joblib') # Salva o modelo em disco"
   ]
  }
 ],
 "metadata": {
  "kernelspec": {
   "display_name": "Python 3 (ipykernel)",
   "language": "python",
   "name": "python3"
  },
  "language_info": {
   "codemirror_mode": {
    "name": "ipython",
    "version": 3
   },
   "file_extension": ".py",
   "mimetype": "text/x-python",
   "name": "python",
   "nbconvert_exporter": "python",
   "pygments_lexer": "ipython3",
   "version": "3.10.10"
  }
 },
 "nbformat": 4,
 "nbformat_minor": 5
}
